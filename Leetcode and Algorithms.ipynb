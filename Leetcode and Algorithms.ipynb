{
 "cells": [
  {
   "cell_type": "code",
   "execution_count": null,
   "id": "527c5613",
   "metadata": {},
   "outputs": [],
   "source": [
    "nums = [1,3,3,5,7,8]\n",
    "target = 5\n",
    "print(nums)"
   ]
  },
  {
   "cell_type": "code",
   "execution_count": null,
   "id": "a1761b07",
   "metadata": {},
   "outputs": [],
   "source": [
    "def linearSearch(nums, target):\n",
    "    index_counter = 0\n",
    "    found = False\n",
    "\n",
    "    while index_counter < len(nums) and not found:\n",
    "        if nums[index_counter] == target:\n",
    "            found = True\n",
    "            return index_counter\n",
    "        else:\n",
    "            index_counter += 1\n",
    "            \n",
    "linearSearch(nums,target)"
   ]
  },
  {
   "cell_type": "code",
   "execution_count": null,
   "id": "47707a0f",
   "metadata": {},
   "outputs": [],
   "source": [
    "def binarySearch(nums, target):\n",
    "    l = 0\n",
    "    r = len(nums) - 1\n",
    "    \n",
    "    while l <= r:\n",
    "        mid = l + r // 2\n",
    "        \n",
    "        if nums[mid] < target:\n",
    "            l = mid + 1\n",
    "        \n",
    "        elif nums[mid] > target:\n",
    "            r = mid - 1\n",
    "            \n",
    "        else:\n",
    "            return mid\n",
    "        \n",
    "    return r\n",
    "\n",
    "print(\"hello\")"
   ]
  },
  {
   "cell_type": "markdown",
   "id": "81dfabe5",
   "metadata": {},
   "source": [
    "# Binary Search for Square Root"
   ]
  },
  {
   "cell_type": "code",
   "execution_count": null,
   "id": "9546947a",
   "metadata": {},
   "outputs": [],
   "source": [
    "n1 = 9\n",
    "n2 = 2\n",
    "n3 = 16\n",
    "\n",
    "def sqrt(x):\n",
    "    if x == 0:\n",
    "        return x\n",
    "\n",
    "    first = 1\n",
    "    last = x\n",
    "\n",
    "    while first <= last :\n",
    "        mid = first + last // 2\n",
    "\n",
    "        if mid * mid < x:\n",
    "            first = mid + 1\n",
    "        elif mid * mid > x:\n",
    "            last = mid - 1\n",
    "        else:\n",
    "            return mid\n",
    "        \n",
    "    return last\n",
    "    \n",
    "\n",
    "print(sqrt(n1))"
   ]
  },
  {
   "cell_type": "code",
   "execution_count": null,
   "id": "e481830c",
   "metadata": {},
   "outputs": [],
   "source": [
    "n = int(input('Number of rows:'))\n",
    "\n",
    "for i in range (n):\n",
    "    for j in range(i+1):\n",
    "        print(\"*\", end=\" \")\n",
    "    print(i)\n",
    "    "
   ]
  },
  {
   "cell_type": "code",
   "execution_count": null,
   "id": "66114f53",
   "metadata": {},
   "outputs": [],
   "source": [
    "n = int(input('Number of rows:'))\n",
    "\n",
    "for i in range (n):\n",
    "    for j in range(i,n):\n",
    "        print(\"*\", end=\" \")\n",
    "    print(i)"
   ]
  },
  {
   "cell_type": "code",
   "execution_count": null,
   "id": "abb5b12a",
   "metadata": {},
   "outputs": [],
   "source": [
    "n = int(input('Number of rows:'))\n",
    "\n",
    "for i in range (n):\n",
    "    for j in range(i,n):\n",
    "        print(\" \", end=\" \")\n",
    "        \n",
    "    for k in range(i+1):\n",
    "        print(\"*\", end=\" \")\n",
    "        \n",
    "    print(i)"
   ]
  },
  {
   "cell_type": "code",
   "execution_count": null,
   "id": "2ecd03f7",
   "metadata": {},
   "outputs": [],
   "source": [
    "def sol(A):\n",
    "    s=1\n",
    "    left=s-1\n",
    "    right=s+1\n",
    "    \n",
    "    \n",
    "    while right < len(A):\n",
    "        if A[left] > A[s] and A[right] > A[s]:\n",
    "            A[s] += 1\n",
    "            \n",
    "        if A[left] < A[s] and A[right] < A[s]:\n",
    "            A[s] -= 1\n",
    "            \n",
    "        left += 1\n",
    "        right += 1\n",
    "        \n",
    "    return A\n",
    "\n",
    "\n",
    "students= [1,6,3,4,3,5]\n",
    "\n",
    "print(sol(students))"
   ]
  },
  {
   "cell_type": "code",
   "execution_count": null,
   "id": "e844fdf9",
   "metadata": {},
   "outputs": [],
   "source": []
  }
 ],
 "metadata": {
  "kernelspec": {
   "display_name": "Python 3 (ipykernel)",
   "language": "python",
   "name": "python3"
  },
  "language_info": {
   "codemirror_mode": {
    "name": "ipython",
    "version": 3
   },
   "file_extension": ".py",
   "mimetype": "text/x-python",
   "name": "python",
   "nbconvert_exporter": "python",
   "pygments_lexer": "ipython3",
   "version": "3.9.13"
  }
 },
 "nbformat": 4,
 "nbformat_minor": 5
}
