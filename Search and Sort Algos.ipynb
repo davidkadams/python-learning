{
 "cells": [
  {
   "cell_type": "markdown",
   "id": "f036a4f3-6064-450e-b787-0c164fb313b4",
   "metadata": {},
   "source": [
    "# Search Algorithms\n",
    "    - Linear\n",
    "    - Binary\n",
    "    \n"
   ]
  },
  {
   "cell_type": "code",
   "execution_count": 1,
   "id": "527c5613",
   "metadata": {},
   "outputs": [
    {
     "name": "stdout",
     "output_type": "stream",
     "text": [
      "[1, 3, 3, 5, 7, 8]\n"
     ]
    }
   ],
   "source": [
    "nums = [1,3,3,5,7,8]\n",
    "target = 5\n",
    "print(nums)"
   ]
  },
  {
   "cell_type": "code",
   "execution_count": 2,
   "id": "a1761b07",
   "metadata": {},
   "outputs": [
    {
     "data": {
      "text/plain": [
       "3"
      ]
     },
     "execution_count": 2,
     "metadata": {},
     "output_type": "execute_result"
    }
   ],
   "source": [
    "def linearSearch(nums, target):\n",
    "    index_counter = 0\n",
    "    found = False\n",
    "\n",
    "    while index_counter < len(nums) and not found:\n",
    "        if nums[index_counter] == target:\n",
    "            found = True\n",
    "            return index_counter\n",
    "        else:\n",
    "            index_counter += 1\n",
    "            \n",
    "linearSearch(nums,target)"
   ]
  },
  {
   "cell_type": "code",
   "execution_count": 5,
   "id": "47707a0f",
   "metadata": {},
   "outputs": [
    {
     "data": {
      "text/plain": [
       "3"
      ]
     },
     "execution_count": 5,
     "metadata": {},
     "output_type": "execute_result"
    }
   ],
   "source": [
    "def binarySearch(nums, target):\n",
    "    l = 0\n",
    "    r = len(nums) - 1\n",
    "    mid = 0\n",
    "    \n",
    "    while l <= r:\n",
    "        mid = (l + r) // 2\n",
    "        \n",
    "        if nums[mid] < target:\n",
    "            l = mid + 1\n",
    "        \n",
    "        elif nums[mid] > target:\n",
    "            r = mid - 1\n",
    "            \n",
    "        else:\n",
    "            return mid\n",
    "        \n",
    "    return -1\n",
    "\n",
    "binarySearch(nums,target)"
   ]
  },
  {
   "cell_type": "markdown",
   "id": "81dfabe5",
   "metadata": {},
   "source": [
    "# Binary Search for Square Root Example Problem\n",
    "\n",
    "- Given a number n, return the square root of that number wihout using Math library functions\n"
   ]
  },
  {
   "cell_type": "code",
   "execution_count": 4,
   "id": "9546947a",
   "metadata": {},
   "outputs": [
    {
     "name": "stdout",
     "output_type": "stream",
     "text": [
      "3\n"
     ]
    }
   ],
   "source": [
    "n1 = 9\n",
    "n2 = 2\n",
    "n3 = 16\n",
    "\n",
    "def sqrt(x):\n",
    "    if x == 0:\n",
    "        return x\n",
    "\n",
    "    first = 1\n",
    "    last = x\n",
    "\n",
    "    while first <= last :\n",
    "        mid = (first + last) // 2\n",
    "\n",
    "        if mid * mid < x:\n",
    "            first = mid + 1\n",
    "        elif mid * mid > x:\n",
    "            last = mid - 1\n",
    "        else:\n",
    "            return mid\n",
    "        \n",
    "    return last\n",
    "    \n",
    "\n",
    "print(sqrt(n1))"
   ]
  },
  {
   "cell_type": "code",
   "execution_count": null,
   "id": "e481830c",
   "metadata": {},
   "outputs": [],
   "source": []
  },
  {
   "cell_type": "code",
   "execution_count": null,
   "id": "66114f53",
   "metadata": {},
   "outputs": [],
   "source": []
  },
  {
   "cell_type": "code",
   "execution_count": null,
   "id": "abb5b12a",
   "metadata": {},
   "outputs": [],
   "source": []
  },
  {
   "cell_type": "code",
   "execution_count": null,
   "id": "2ecd03f7",
   "metadata": {},
   "outputs": [],
   "source": []
  },
  {
   "cell_type": "code",
   "execution_count": null,
   "id": "e844fdf9",
   "metadata": {},
   "outputs": [],
   "source": []
  }
 ],
 "metadata": {
  "kernelspec": {
   "display_name": "Python 3 (ipykernel)",
   "language": "python",
   "name": "python3"
  },
  "language_info": {
   "codemirror_mode": {
    "name": "ipython",
    "version": 3
   },
   "file_extension": ".py",
   "mimetype": "text/x-python",
   "name": "python",
   "nbconvert_exporter": "python",
   "pygments_lexer": "ipython3",
   "version": "3.11.7"
  }
 },
 "nbformat": 4,
 "nbformat_minor": 5
}
